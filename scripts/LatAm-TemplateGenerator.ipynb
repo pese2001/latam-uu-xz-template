{
 "cells": [
  {
   "cell_type": "code",
   "execution_count": 1,
   "metadata": {},
   "outputs": [],
   "source": [
    "import pandas as pd\n",
    "import MBDCatCellImpacts as MBDCCI\n",
    "\n",
    "## First param (working_dir) -> directory\n",
    "user_dir = 'C:/Users/pese2001/OneDrive - Nielsen IQ/'\n",
    "working_dir =  f'{user_dir}/Documents - GDDC_Colombia/Universe Estimation/C6W2 (2023)/VUE/Templates/CERVEZAS'\n",
    "\n",
    "## Second param (nspc_param) -> abs(relative change of nspc at cell level)\n",
    "nspc_param = 0.15\n",
    "\n",
    "## Third param (xf_param) -> abs(relative change of XFactor at cell level)\n",
    "xf_param = 0.05\n",
    "\n",
    "## Fourth param (cell_cat_param) -> abs(relative change of Sales at the mbd-cell-cat level)\n",
    "cell_cat_param = 0.2\n",
    "\n",
    "## Fifth param (cell_weight_param) -> weight/Sales contribution of the cell at the mbd-cat level\n",
    "cell_weight_param = 0.1\n",
    "\n",
    "mbdcci = MBDCCI.MBDCCImpcts(working_dir,\n",
    "                            nspc_param, \n",
    "                            xf_param, \n",
    "                            cell_cat_param, \n",
    "                            cell_weight_param)\n",
    "impacts = mbdcci.get_mbd_diagnostics()"
   ]
  },
  {
   "cell_type": "code",
   "execution_count": null,
   "metadata": {},
   "outputs": [],
   "source": []
  }
 ],
 "metadata": {
  "kernelspec": {
   "display_name": "base",
   "language": "python",
   "name": "python3"
  },
  "language_info": {
   "codemirror_mode": {
    "name": "ipython",
    "version": 3
   },
   "file_extension": ".py",
   "mimetype": "text/x-python",
   "name": "python",
   "nbconvert_exporter": "python",
   "pygments_lexer": "ipython3",
   "version": "3.10.8"
  }
 },
 "nbformat": 4,
 "nbformat_minor": 2
}
