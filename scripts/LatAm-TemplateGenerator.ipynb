{
 "cells": [
  {
   "cell_type": "code",
   "execution_count": 1,
   "metadata": {},
   "outputs": [
    {
     "name": "stdout",
     "output_type": "stream",
     "text": [
      "All input files were cleaned, and overwritten to match proper datatypes, encoding, and IDs format; only if needed.\n",
      "\n",
      "        Consider that only the Cell_IDs from Cells_Chars.csv that are also\n",
      "        present in Cells_LastPeriod.csv will be considered. This match will result\n",
      "        in the Cells BAU dataframe.\n",
      "        \n",
      "\n",
      "        Consider that only the Cell_IDs from Cells BAU dataframe that are also\n",
      "        present in VUE_SampleNSPC.csv will be considered. This match will result\n",
      "        in the Cells dataframe.\n",
      "        \n",
      "XZTemplate_v0.csv has been saved to the outputs directory.\n",
      "\n",
      "        Consider that only the Cell_IDs from VUE_Impacts.csv that are also\n",
      "        present in XZTemplate_v0.csv will be considered. This match will result\n",
      "        in the Impacts dataframe.\n",
      "        \n",
      "\n",
      "        Consider that only the key Mbd_ID + CategoryName from Impacts dataframe that are also\n",
      "        present in MBD_NumDist.csv will be considered. This match will result\n",
      "        in the MBD_Impacts dataframe.\n",
      "        \n",
      "\n",
      "        Consider that only the Mbd_IDs from MBD_Impacts dataframe\n",
      "        that are also present in MBD_TypeTarget.csv will be considered. This match will result\n",
      "        in the MBDCat_Impacts_v0 dataframe.\n",
      "        \n",
      "MBDCat_Impacts_v0.csv has been saved to the outputs directory.\n",
      "\n",
      "        Consider that only the Cell_IDs from VUE_Impacts.csv that are also\n",
      "        present in XZTemplate_v0.csv will be considered. This match will result\n",
      "        in the Impacts dataframe.\n",
      "        \n",
      "\n",
      "        Consider that only the key Mbd_ID + CategoryName from Impacts dataframe that are also\n",
      "        present in MBDCat_Impacts_v0.csv will be considered. This match will result\n",
      "        in the MBDCatCell_Impacts_v0 dataframe.\n",
      "        \n",
      "MBDCatCell_Impacts_v0.csv has been saved to the outputs directory.\n"
     ]
    }
   ],
   "source": [
    "import pandas as pd\n",
    "import MBDCatCellImpacts as MBDCCI\n",
    "\n",
    "## First param (working_dir) -> directory\n",
    "user_dir = 'C:/Users/pese2001/OneDrive - Nielsen IQ/'\n",
    "working_dir =  f'{user_dir}/Documents/Git-repos/latam-uu-xz-template/latam-uu-xz-template'\n",
    "\n",
    "## Second param (distance_param) -> VUE XZ distance range to flag when exceeded.\n",
    "distance_param = 3\n",
    "\n",
    "## Third param (nspc_param) -> abs(relative change of NSPC at cell level)\n",
    "nspc_param = 0.15\n",
    "\n",
    "## Fourth param (xf_param) -> abs(relative change of XFactor at cell level)\n",
    "xf_param = 0.05\n",
    "\n",
    "## Fifth param (cell_cat_param) -> abs(relative change of Sales at the mbd-cell-cat level)\n",
    "cell_cat_param = 0.2\n",
    "\n",
    "## Sixth param (cell_weight_param) -> weight/Sales contribution of the cell at the mbd-cat level\n",
    "cell_weight_param = 0.1\n",
    "\n",
    "mbdcci = MBDCCI.MBDCCImpcts(working_dir,\n",
    "                            distance_param,\n",
    "                            nspc_param, \n",
    "                            xf_param, \n",
    "                            cell_cat_param, \n",
    "                            cell_weight_param)\n",
    "impacts = mbdcci.get_mbd_diagnostics()"
   ]
  },
  {
   "cell_type": "code",
   "execution_count": null,
   "metadata": {},
   "outputs": [],
   "source": []
  },
  {
   "cell_type": "code",
   "execution_count": null,
   "metadata": {},
   "outputs": [],
   "source": []
  },
  {
   "cell_type": "code",
   "execution_count": null,
   "metadata": {},
   "outputs": [],
   "source": []
  }
 ],
 "metadata": {
  "kernelspec": {
   "display_name": "Python 3",
   "language": "python",
   "name": "python3"
  },
  "language_info": {
   "codemirror_mode": {
    "name": "ipython",
    "version": 3
   },
   "file_extension": ".py",
   "mimetype": "text/x-python",
   "name": "python",
   "nbconvert_exporter": "python",
   "pygments_lexer": "ipython3",
   "version": "3.10.8"
  }
 },
 "nbformat": 4,
 "nbformat_minor": 2
}
